{
 "cells": [
  {
   "cell_type": "markdown",
   "metadata": {},
   "source": [
    "## Some digit manipulation"
   ]
  },
  {
   "cell_type": "code",
   "execution_count": 2,
   "metadata": {},
   "outputs": [],
   "source": [
    "import time"
   ]
  },
  {
   "cell_type": "code",
   "execution_count": 3,
   "metadata": {},
   "outputs": [
    {
     "data": {
      "text/plain": [
       "True"
      ]
     },
     "execution_count": 3,
     "metadata": {},
     "output_type": "execute_result"
    }
   ],
   "source": [
    "0.005 == .005"
   ]
  },
  {
   "cell_type": "code",
   "execution_count": 4,
   "metadata": {},
   "outputs": [
    {
     "data": {
      "text/plain": [
       "True"
      ]
     },
     "execution_count": 4,
     "metadata": {},
     "output_type": "execute_result"
    }
   ],
   "source": [
    "1_000_000 == 1000000"
   ]
  },
  {
   "cell_type": "code",
   "execution_count": 5,
   "metadata": {},
   "outputs": [
    {
     "data": {
      "text/plain": [
       "True"
      ]
     },
     "execution_count": 5,
     "metadata": {},
     "output_type": "execute_result"
    }
   ],
   "source": [
    "1e-5 == 0.00001"
   ]
  },
  {
   "cell_type": "code",
   "execution_count": 6,
   "metadata": {},
   "outputs": [
    {
     "data": {
      "text/plain": [
       "[7, 3, 5, 3, 5, 3, 5, 3, 3]"
      ]
     },
     "execution_count": 6,
     "metadata": {},
     "output_type": "execute_result"
    }
   ],
   "source": [
    "digits = [7, 4, 3, 5, 3, 2, 4, 5, 2, 3, 4, 5, 3, 3]\n",
    "odd_nums = [i for i in digits if i % 2 != 0]\n",
    "odd_nums"
   ]
  },
  {
   "cell_type": "code",
   "execution_count": 9,
   "metadata": {},
   "outputs": [],
   "source": [
    "values_0 = ['A', 'B', 'C', 'D']\n",
    "values_1 = ['F', 'G', 'H', 'M']"
   ]
  },
  {
   "cell_type": "code",
   "execution_count": 10,
   "metadata": {},
   "outputs": [
    {
     "data": {
      "text/plain": [
       "['AF',\n",
       " 'AG',\n",
       " 'AH',\n",
       " 'AM',\n",
       " 'BF',\n",
       " 'BG',\n",
       " 'BH',\n",
       " 'BM',\n",
       " 'CF',\n",
       " 'CG',\n",
       " 'CH',\n",
       " 'CM',\n",
       " 'DF',\n",
       " 'DG',\n",
       " 'DH',\n",
       " 'DM']"
      ]
     },
     "execution_count": 10,
     "metadata": {},
     "output_type": "execute_result"
    }
   ],
   "source": [
    "[x+y for x in values_0 for y in values_1]"
   ]
  },
  {
   "cell_type": "code",
   "execution_count": 14,
   "metadata": {},
   "outputs": [
    {
     "data": {
      "text/plain": [
       "{3, 5, 7}"
      ]
     },
     "execution_count": 14,
     "metadata": {},
     "output_type": "execute_result"
    }
   ],
   "source": [
    "set(odd_nums)"
   ]
  },
  {
   "cell_type": "code",
   "execution_count": 47,
   "metadata": {},
   "outputs": [
    {
     "name": "stdout",
     "output_type": "stream",
     "text": [
      "False\n",
      "True\n"
     ]
    }
   ],
   "source": [
    "print(all([True, False, True]))\n",
    "print(all([True, 1, True]))"
   ]
  },
  {
   "cell_type": "code",
   "execution_count": 48,
   "metadata": {},
   "outputs": [
    {
     "name": "stdout",
     "output_type": "stream",
     "text": [
      "List contains 'None' or '0' values\n"
     ]
    }
   ],
   "source": [
    "values = [None, 1, 2, 3, 4]\n",
    "\n",
    "if not all(values):\n",
    "    print(\"List contains 'None' or '0' values\")"
   ]
  },
  {
   "cell_type": "code",
   "execution_count": 50,
   "metadata": {},
   "outputs": [
    {
     "name": "stdout",
     "output_type": "stream",
     "text": [
      "True\n",
      "False\n"
     ]
    }
   ],
   "source": [
    "print(any([True, False, False, None, 0]))\n",
    "print(any([False, None, 0, []]))"
   ]
  },
  {
   "cell_type": "code",
   "execution_count": 51,
   "metadata": {},
   "outputs": [
    {
     "name": "stdout",
     "output_type": "stream",
     "text": [
      "List contains at least one non-zero or non-empty value\n"
     ]
    }
   ],
   "source": [
    "if any(values):\n",
    "    print('List contains at least one non-zero or non-empty value')"
   ]
  },
  {
   "cell_type": "code",
   "execution_count": 162,
   "metadata": {},
   "outputs": [
    {
     "name": "stdout",
     "output_type": "stream",
     "text": [
      "3.549704213029587\n",
      "9.971103248888761\n",
      "2.9982661656364\n",
      "3.734836007109281\n",
      "10.538481864101678\n",
      "6.740563774640814\n",
      "7.751935242247577\n",
      "13.647344063956181\n",
      "6.276941930590087\n"
     ]
    }
   ],
   "source": [
    "x_coordinates = [3.4, 4.25, 2.14, 3.59, 5.14, 5.24 , 6.45, 9.6, 5.4]\n",
    "y_coordinates = [1.02, 9.02, 2.10, 1.03, 9.20, 4.24, 4.30, 9.7, 3.2]\n",
    "\n",
    "\n",
    "for x, y in zip(x_coordinates, y_coordinates):\n",
    "    print((x**2 + y**2)**0.5)"
   ]
  },
  {
   "cell_type": "code",
   "execution_count": 175,
   "metadata": {},
   "outputs": [
    {
     "name": "stdout",
     "output_type": "stream",
     "text": [
      "Element index: 0 | Element value: 3.4\n",
      "Element index: 1 | Element value: 4.25\n",
      "Element index: 2 | Element value: 2.14\n",
      "Element index: 3 | Element value: 3.59\n",
      "Element index: 4 | Element value: 5.14\n",
      "Element index: 5 | Element value: 5.24\n",
      "Element index: 6 | Element value: 6.45\n",
      "Element index: 7 | Element value: 9.6\n",
      "Element index: 8 | Element value: 5.4\n"
     ]
    }
   ],
   "source": [
    "for idx, value in enumerate(x_coordinates):\n",
    "    print(f\"Element index: {idx} | Element value: {value}\")"
   ]
  },
  {
   "cell_type": "code",
   "execution_count": 15,
   "metadata": {},
   "outputs": [],
   "source": [
    "import os\n",
    "import numpy as np\n",
    "import cv2\n",
    "\n",
    "def generator(path):\n",
    "    for img_path in os.listdir(path):\n",
    "        image = cv2.imread(os.path.join(path, img_path))\n",
    "        yield np.mean(image)\n",
    "    "
   ]
  },
  {
   "cell_type": "code",
   "execution_count": 21,
   "metadata": {},
   "outputs": [
    {
     "data": {
      "text/plain": [
       "<generator object generator at 0x000001E98610E360>"
      ]
     },
     "execution_count": 21,
     "metadata": {},
     "output_type": "execute_result"
    }
   ],
   "source": [
    "gen = generator('presentation/images/')\n",
    "gen"
   ]
  },
  {
   "cell_type": "code",
   "execution_count": 30,
   "metadata": {},
   "outputs": [
    {
     "data": {
      "text/plain": [
       "142.37600416666666"
      ]
     },
     "execution_count": 30,
     "metadata": {},
     "output_type": "execute_result"
    }
   ],
   "source": [
    "next(gen)"
   ]
  },
  {
   "cell_type": "code",
   "execution_count": 31,
   "metadata": {},
   "outputs": [
    {
     "name": "stdout",
     "output_type": "stream",
     "text": [
      "85.55256002959406\n",
      "140.12056326581646\n",
      "98.60396586189798\n",
      "145.34188533333332\n",
      "92.11942222222223\n",
      "94.7617258755354\n",
      "88.58884826152683\n",
      "134.2527022222222\n",
      "94.280232\n",
      "145.6157030129125\n",
      "150.5189541974828\n",
      "137.0878348765432\n",
      "133.75239688247967\n",
      "170.39790350877192\n",
      "157.30655285728562\n",
      "139.14690362237238\n",
      "103.8110823955989\n",
      "180.583349609375\n",
      "118.32497777777778\n",
      "60.043733333333336\n",
      "101.78091025924833\n",
      "96.04603943363769\n",
      "80.16248579590469\n",
      "151.86560842570947\n",
      "127.67584040038352\n",
      "181.17147083333333\n",
      "135.68846387112058\n",
      "114.89419072222222\n",
      "124.76730648148148\n",
      "81.58778203490847\n",
      "100.99414979423868\n",
      "89.50746082567044\n",
      "104.92204243946419\n",
      "92.4248570421007\n",
      "168.2525128600823\n",
      "107.57986020970347\n",
      "154.05729550827422\n",
      "112.11923958333334\n",
      "140.8126909722222\n",
      "103.30133255249541\n",
      "145.74594907407408\n",
      "117.43482473017042\n",
      "159.00323176361957\n",
      "188.2570163170163\n",
      "88.04333533533533\n",
      "77.45334814814815\n",
      "174.72517489711933\n",
      "138.36470875191202\n",
      "128.28710934744268\n",
      "146.43165761316874\n",
      "138.23507407407408\n",
      "152.28887817730592\n",
      "111.01552087204261\n",
      "160.25317295088288\n",
      "110.00400988887257\n",
      "197.8672987654321\n",
      "78.70808358528596\n",
      "113.30023655913979\n",
      "109.57853909465021\n",
      "215.64876403695806\n",
      "94.89570715630884\n",
      "195.95360143853011\n",
      "145.42991486653142\n",
      "157.32623313347761\n",
      "129.96625814393303\n",
      "120.58510208333334\n",
      "91.242752\n",
      "110.8941762574595\n",
      "104.29197938877043\n",
      "52.16464174759816\n",
      "164.30194061830426\n",
      "62.22615125868055\n",
      "126.367568359375\n",
      "116.20123408564815\n",
      "194.77721890688642\n",
      "92.94281787367724\n",
      "163.70168476134586\n",
      "108.68479112755874\n",
      "74.30973741118319\n",
      "144.66988477366255\n",
      "140.62759651564352\n",
      "112.1799586288416\n",
      "104.9278911238825\n",
      "91.47389125295508\n",
      "64.9920574074074\n",
      "145.18119842942522\n",
      "78.82104458476847\n",
      "84.84106371527778\n",
      "100.683998\n",
      "84.31953728054155\n",
      "95.9412473022252\n",
      "128.74218703703704\n",
      "166.2223654814815\n",
      "204.69781761006288\n",
      "91.14231923302108\n",
      "147.15924217687075\n",
      "113.20406772700119\n",
      "145.94988133333334\n",
      "149.45821142399268\n",
      "124.75401168936143\n",
      "122.66162554423015\n",
      "136.1576813271605\n",
      "104.39916178385417\n",
      "82.11714635211882\n",
      "194.02648260762928\n",
      "149.8084337637494\n",
      "199.8086485260771\n",
      "187.13283100465736\n",
      "180.03006655092594\n",
      "78.2762899362438\n",
      "119.821315625\n",
      "167.42300462962962\n",
      "96.16901823874824\n",
      "82.28449167442342\n",
      "164.0137263888889\n",
      "92.57802910052911\n",
      "193.11202101131718\n",
      "155.04784290507203\n",
      "139.96624438641638\n",
      "123.1463925729443\n",
      "118.54600732600733\n",
      "157.2055551206784\n",
      "80.67399\n",
      "86.342919921875\n",
      "99.91951343500364\n",
      "90.18334442515432\n",
      "139.24867253776122\n",
      "115.87290548148148\n",
      "90.42280838577835\n",
      "150.24560606060606\n",
      "146.13959500542887\n",
      "185.05343392299687\n",
      "140.56102496782498\n",
      "151.34579554293578\n",
      "94.26153363616699\n",
      "145.8114551027768\n",
      "95.21723450332537\n",
      "83.47253724989358\n",
      "106.15570296286742\n",
      "121.76152790913369\n",
      "177.11107216708024\n",
      "58.01870578953402\n",
      "119.73340663580247\n",
      "170.33582222222222\n",
      "130.6568534906588\n",
      "65.16944416186278\n",
      "178.28622287326388\n",
      "146.843454227995\n",
      "136.07839659807192\n",
      "103.99812966150316\n",
      "161.87800426666666\n",
      "89.80676721643519\n",
      "97.19510416666667\n",
      "156.78378540871776\n",
      "104.77313518382051\n",
      "132.23049164208456\n",
      "87.34299121265377\n",
      "133.12500230167254\n",
      "78.1907570505565\n",
      "142.3884187825521\n",
      "138.12354568854568\n",
      "87.09855328990842\n",
      "146.82219299687654\n",
      "85.7614881648159\n",
      "180.583349609375\n",
      "111.54481373095504\n",
      "97.71687265510614\n",
      "122.66242832469776\n",
      "142.37162426558137\n",
      "152.4365761195658\n",
      "155.87322954822955\n",
      "136.16634360849878\n",
      "122.49500810185185\n",
      "68.99189386509752\n",
      "133.58772251564946\n",
      "85.39245036319613\n",
      "156.6902430902431\n",
      "193.55318798815821\n",
      "116.69444214190982\n",
      "135.44073379629629\n",
      "185.850978125\n",
      "118.72620668402594\n",
      "141.10210062582345\n",
      "132.20175989583333\n",
      "120.7274183006536\n",
      "165.83094359515025\n",
      "199.86698275862068\n",
      "131.3622916279358\n",
      "125.47423823823824\n",
      "81.23320544217687\n",
      "135.66167777777778\n",
      "98.38482699478001\n",
      "156.9556875978091\n",
      "189.53350666666665\n",
      "125.15682682682683\n",
      "144.45441049530567\n",
      "103.8256827174454\n",
      "128.40161714549654\n",
      "143.59457587195692\n",
      "145.29673560944846\n",
      "92.5952312537269\n",
      "39.588172717271725\n",
      "48.012974002755065\n",
      "183.65207213204584\n",
      "147.46017648606443\n",
      "94.76183597883598\n",
      "118.84623883928572\n",
      "151.18319994918699\n",
      "83.48228033638351\n",
      "149.90127933895764\n",
      "77.7857350110011\n",
      "208.81804943603314\n",
      "194.41673480976718\n",
      "115.01324823633156\n",
      "153.21432756813417\n",
      "147.3414494667279\n",
      "107.51173921687874\n",
      "86.28825844658746\n",
      "116.51998001345828\n",
      "129.44755195843325\n",
      "85.4365643994824\n",
      "177.04848396825878\n",
      "199.20729084016574\n",
      "118.42693212121212\n",
      "90.87938435274687\n",
      "107.59915591565556\n",
      "116.73151009632937\n",
      "195.2879024044483\n",
      "219.54184297578828\n",
      "45.34223635916999\n",
      "141.86398647137747\n",
      "62.203075471698114\n",
      "140.40641170431212\n",
      "109.7281482451503\n",
      "101.89012779040625\n",
      "189.08280031821798\n",
      "115.1624204874019\n",
      "73.86992540057788\n",
      "150.73253663003663\n",
      "139.80052016460905\n",
      "122.8772580305424\n",
      "70.36694037522487\n",
      "93.8869040247678\n",
      "89.98705993080993\n"
     ]
    }
   ],
   "source": [
    "for mean_value in gen:\n",
    "    print(mean_value)"
   ]
  },
  {
   "cell_type": "code",
   "execution_count": 77,
   "metadata": {},
   "outputs": [
    {
     "name": "stdout",
     "output_type": "stream",
     "text": [
      "Bob +754353243\n",
      "Alis +9432423423\n",
      "Travis +943432412\n"
     ]
    }
   ],
   "source": [
    "phones = {\"Bob\": '+754353243', \"Alis\": '+9432423423', \"Travis\": \"+943432412\"}\n",
    "for key, value in phones.items():\n",
    "    print(key, value)"
   ]
  },
  {
   "cell_type": "code",
   "execution_count": 74,
   "metadata": {},
   "outputs": [
    {
     "name": "stdout",
     "output_type": "stream",
     "text": [
      "Not found\n",
      "+754353243\n"
     ]
    }
   ],
   "source": [
    "print(phones.get(\"John\", \"Not found\"))\n",
    "print(phones.get(\"Bob\", \"Not found\"))"
   ]
  },
  {
   "cell_type": "code",
   "execution_count": 81,
   "metadata": {},
   "outputs": [],
   "source": [
    "def func(a):\n",
    "    func.intermitten_result = 2*a\n",
    "    return a**2"
   ]
  },
  {
   "cell_type": "code",
   "execution_count": 82,
   "metadata": {},
   "outputs": [
    {
     "name": "stdout",
     "output_type": "stream",
     "text": [
      "10\n"
     ]
    }
   ],
   "source": [
    "func(5)\n",
    "print(func.intermitten_result)"
   ]
  },
  {
   "cell_type": "code",
   "execution_count": 86,
   "metadata": {},
   "outputs": [
    {
     "data": {
      "text/plain": [
       "['ALLOW_THREADS',\n",
       " 'AxisError',\n",
       " 'BUFSIZE',\n",
       " 'CLIP',\n",
       " 'ComplexWarning',\n",
       " 'DataSource',\n",
       " 'ERR_CALL',\n",
       " 'ERR_DEFAULT',\n",
       " 'ERR_IGNORE',\n",
       " 'ERR_LOG',\n",
       " 'ERR_PRINT',\n",
       " 'ERR_RAISE',\n",
       " 'ERR_WARN',\n",
       " 'FLOATING_POINT_SUPPORT',\n",
       " 'FPE_DIVIDEBYZERO',\n",
       " 'FPE_INVALID',\n",
       " 'FPE_OVERFLOW',\n",
       " 'FPE_UNDERFLOW',\n",
       " 'False_',\n",
       " 'Inf',\n",
       " 'Infinity',\n",
       " 'MAXDIMS',\n",
       " 'MAY_SHARE_BOUNDS',\n",
       " 'MAY_SHARE_EXACT',\n",
       " 'MachAr',\n",
       " 'ModuleDeprecationWarning',\n",
       " 'NAN',\n",
       " 'NINF',\n",
       " 'NZERO',\n",
       " 'NaN',\n",
       " 'PINF',\n",
       " 'PZERO',\n",
       " 'RAISE',\n",
       " 'RankWarning',\n",
       " 'SHIFT_DIVIDEBYZERO',\n",
       " 'SHIFT_INVALID',\n",
       " 'SHIFT_OVERFLOW',\n",
       " 'SHIFT_UNDERFLOW',\n",
       " 'ScalarType',\n",
       " 'Tester',\n",
       " 'TooHardError',\n",
       " 'True_',\n",
       " 'UFUNC_BUFSIZE_DEFAULT',\n",
       " 'UFUNC_PYVALS_NAME',\n",
       " 'VisibleDeprecationWarning',\n",
       " 'WRAP',\n",
       " '_NoValue',\n",
       " '_UFUNC_API',\n",
       " '__NUMPY_SETUP__',\n",
       " '__all__',\n",
       " '__builtins__',\n",
       " '__cached__',\n",
       " '__config__',\n",
       " '__doc__',\n",
       " '__file__',\n",
       " '__git_revision__',\n",
       " '__loader__',\n",
       " '__name__',\n",
       " '__package__',\n",
       " '__path__',\n",
       " '__spec__',\n",
       " '__version__',\n",
       " '_add_newdoc_ufunc',\n",
       " '_arg',\n",
       " '_distributor_init',\n",
       " '_globals',\n",
       " '_mat',\n",
       " '_pytesttester',\n",
       " 'abs',\n",
       " 'absolute',\n",
       " 'absolute_import',\n",
       " 'add',\n",
       " 'add_docstring',\n",
       " 'add_newdoc',\n",
       " 'add_newdoc_ufunc',\n",
       " 'alen',\n",
       " 'all',\n",
       " 'allclose',\n",
       " 'alltrue',\n",
       " 'amax',\n",
       " 'amin',\n",
       " 'angle',\n",
       " 'any',\n",
       " 'append',\n",
       " 'apply_along_axis',\n",
       " 'apply_over_axes',\n",
       " 'arange',\n",
       " 'arccos',\n",
       " 'arccosh',\n",
       " 'arcsin',\n",
       " 'arcsinh',\n",
       " 'arctan',\n",
       " 'arctan2',\n",
       " 'arctanh',\n",
       " 'argmax',\n",
       " 'argmin',\n",
       " 'argpartition',\n",
       " 'argsort',\n",
       " 'argwhere',\n",
       " 'around',\n",
       " 'array',\n",
       " 'array2string',\n",
       " 'array_equal',\n",
       " 'array_equiv',\n",
       " 'array_repr',\n",
       " 'array_split',\n",
       " 'array_str',\n",
       " 'asanyarray',\n",
       " 'asarray',\n",
       " 'asarray_chkfinite',\n",
       " 'ascontiguousarray',\n",
       " 'asfarray',\n",
       " 'asfortranarray',\n",
       " 'asmatrix',\n",
       " 'asscalar',\n",
       " 'atleast_1d',\n",
       " 'atleast_2d',\n",
       " 'atleast_3d',\n",
       " 'average',\n",
       " 'bartlett',\n",
       " 'base_repr',\n",
       " 'binary_repr',\n",
       " 'bincount',\n",
       " 'bitwise_and',\n",
       " 'bitwise_not',\n",
       " 'bitwise_or',\n",
       " 'bitwise_xor',\n",
       " 'blackman',\n",
       " 'block',\n",
       " 'bmat',\n",
       " 'bool',\n",
       " 'bool8',\n",
       " 'bool_',\n",
       " 'broadcast',\n",
       " 'broadcast_arrays',\n",
       " 'broadcast_to',\n",
       " 'busday_count',\n",
       " 'busday_offset',\n",
       " 'busdaycalendar',\n",
       " 'byte',\n",
       " 'byte_bounds',\n",
       " 'bytes0',\n",
       " 'bytes_',\n",
       " 'c_',\n",
       " 'can_cast',\n",
       " 'cast',\n",
       " 'cbrt',\n",
       " 'cdouble',\n",
       " 'ceil',\n",
       " 'cfloat',\n",
       " 'char',\n",
       " 'character',\n",
       " 'chararray',\n",
       " 'choose',\n",
       " 'clip',\n",
       " 'clongdouble',\n",
       " 'clongfloat',\n",
       " 'column_stack',\n",
       " 'common_type',\n",
       " 'compare_chararrays',\n",
       " 'compat',\n",
       " 'complex',\n",
       " 'complex128',\n",
       " 'complex64',\n",
       " 'complex_',\n",
       " 'complexfloating',\n",
       " 'compress',\n",
       " 'concatenate',\n",
       " 'conj',\n",
       " 'conjugate',\n",
       " 'convolve',\n",
       " 'copy',\n",
       " 'copysign',\n",
       " 'copyto',\n",
       " 'core',\n",
       " 'corrcoef',\n",
       " 'correlate',\n",
       " 'cos',\n",
       " 'cosh',\n",
       " 'count_nonzero',\n",
       " 'cov',\n",
       " 'cross',\n",
       " 'csingle',\n",
       " 'ctypeslib',\n",
       " 'cumprod',\n",
       " 'cumproduct',\n",
       " 'cumsum',\n",
       " 'datetime64',\n",
       " 'datetime_as_string',\n",
       " 'datetime_data',\n",
       " 'deg2rad',\n",
       " 'degrees',\n",
       " 'delete',\n",
       " 'deprecate',\n",
       " 'deprecate_with_doc',\n",
       " 'diag',\n",
       " 'diag_indices',\n",
       " 'diag_indices_from',\n",
       " 'diagflat',\n",
       " 'diagonal',\n",
       " 'diff',\n",
       " 'digitize',\n",
       " 'disp',\n",
       " 'divide',\n",
       " 'division',\n",
       " 'divmod',\n",
       " 'dot',\n",
       " 'double',\n",
       " 'dsplit',\n",
       " 'dstack',\n",
       " 'dtype',\n",
       " 'e',\n",
       " 'ediff1d',\n",
       " 'einsum',\n",
       " 'einsum_path',\n",
       " 'emath',\n",
       " 'empty',\n",
       " 'empty_like',\n",
       " 'equal',\n",
       " 'errstate',\n",
       " 'euler_gamma',\n",
       " 'exp',\n",
       " 'exp2',\n",
       " 'expand_dims',\n",
       " 'expm1',\n",
       " 'extract',\n",
       " 'eye',\n",
       " 'fabs',\n",
       " 'fastCopyAndTranspose',\n",
       " 'fft',\n",
       " 'fill_diagonal',\n",
       " 'find_common_type',\n",
       " 'finfo',\n",
       " 'fix',\n",
       " 'flatiter',\n",
       " 'flatnonzero',\n",
       " 'flexible',\n",
       " 'flip',\n",
       " 'fliplr',\n",
       " 'flipud',\n",
       " 'float',\n",
       " 'float16',\n",
       " 'float32',\n",
       " 'float64',\n",
       " 'float_',\n",
       " 'float_power',\n",
       " 'floating',\n",
       " 'floor',\n",
       " 'floor_divide',\n",
       " 'fmax',\n",
       " 'fmin',\n",
       " 'fmod',\n",
       " 'format_float_positional',\n",
       " 'format_float_scientific',\n",
       " 'format_parser',\n",
       " 'frexp',\n",
       " 'frombuffer',\n",
       " 'fromfile',\n",
       " 'fromfunction',\n",
       " 'fromiter',\n",
       " 'frompyfunc',\n",
       " 'fromregex',\n",
       " 'fromstring',\n",
       " 'full',\n",
       " 'full_like',\n",
       " 'fv',\n",
       " 'gcd',\n",
       " 'generic',\n",
       " 'genfromtxt',\n",
       " 'geomspace',\n",
       " 'get_array_wrap',\n",
       " 'get_include',\n",
       " 'get_printoptions',\n",
       " 'getbufsize',\n",
       " 'geterr',\n",
       " 'geterrcall',\n",
       " 'geterrobj',\n",
       " 'gradient',\n",
       " 'greater',\n",
       " 'greater_equal',\n",
       " 'half',\n",
       " 'hamming',\n",
       " 'hanning',\n",
       " 'heaviside',\n",
       " 'histogram',\n",
       " 'histogram2d',\n",
       " 'histogram_bin_edges',\n",
       " 'histogramdd',\n",
       " 'hsplit',\n",
       " 'hstack',\n",
       " 'hypot',\n",
       " 'i0',\n",
       " 'identity',\n",
       " 'iinfo',\n",
       " 'imag',\n",
       " 'in1d',\n",
       " 'index_exp',\n",
       " 'indices',\n",
       " 'inexact',\n",
       " 'inf',\n",
       " 'info',\n",
       " 'infty',\n",
       " 'inner',\n",
       " 'insert',\n",
       " 'int',\n",
       " 'int0',\n",
       " 'int16',\n",
       " 'int32',\n",
       " 'int64',\n",
       " 'int8',\n",
       " 'int_',\n",
       " 'int_asbuffer',\n",
       " 'intc',\n",
       " 'integer',\n",
       " 'interp',\n",
       " 'intersect1d',\n",
       " 'intp',\n",
       " 'invert',\n",
       " 'ipmt',\n",
       " 'irr',\n",
       " 'is_busday',\n",
       " 'isclose',\n",
       " 'iscomplex',\n",
       " 'iscomplexobj',\n",
       " 'isfinite',\n",
       " 'isfortran',\n",
       " 'isin',\n",
       " 'isinf',\n",
       " 'isnan',\n",
       " 'isnat',\n",
       " 'isneginf',\n",
       " 'isposinf',\n",
       " 'isreal',\n",
       " 'isrealobj',\n",
       " 'isscalar',\n",
       " 'issctype',\n",
       " 'issubclass_',\n",
       " 'issubdtype',\n",
       " 'issubsctype',\n",
       " 'iterable',\n",
       " 'ix_',\n",
       " 'kaiser',\n",
       " 'kron',\n",
       " 'lcm',\n",
       " 'ldexp',\n",
       " 'left_shift',\n",
       " 'less',\n",
       " 'less_equal',\n",
       " 'lexsort',\n",
       " 'lib',\n",
       " 'linalg',\n",
       " 'linspace',\n",
       " 'little_endian',\n",
       " 'load',\n",
       " 'loads',\n",
       " 'loadtxt',\n",
       " 'log',\n",
       " 'log10',\n",
       " 'log1p',\n",
       " 'log2',\n",
       " 'logaddexp',\n",
       " 'logaddexp2',\n",
       " 'logical_and',\n",
       " 'logical_not',\n",
       " 'logical_or',\n",
       " 'logical_xor',\n",
       " 'logspace',\n",
       " 'long',\n",
       " 'longcomplex',\n",
       " 'longdouble',\n",
       " 'longfloat',\n",
       " 'longlong',\n",
       " 'lookfor',\n",
       " 'ma',\n",
       " 'mafromtxt',\n",
       " 'mask_indices',\n",
       " 'mat',\n",
       " 'math',\n",
       " 'matmul',\n",
       " 'matrix',\n",
       " 'matrixlib',\n",
       " 'max',\n",
       " 'maximum',\n",
       " 'maximum_sctype',\n",
       " 'may_share_memory',\n",
       " 'mean',\n",
       " 'median',\n",
       " 'memmap',\n",
       " 'meshgrid',\n",
       " 'mgrid',\n",
       " 'min',\n",
       " 'min_scalar_type',\n",
       " 'minimum',\n",
       " 'mintypecode',\n",
       " 'mirr',\n",
       " 'mod',\n",
       " 'modf',\n",
       " 'moveaxis',\n",
       " 'msort',\n",
       " 'multiply',\n",
       " 'nan',\n",
       " 'nan_to_num',\n",
       " 'nanargmax',\n",
       " 'nanargmin',\n",
       " 'nancumprod',\n",
       " 'nancumsum',\n",
       " 'nanmax',\n",
       " 'nanmean',\n",
       " 'nanmedian',\n",
       " 'nanmin',\n",
       " 'nanpercentile',\n",
       " 'nanprod',\n",
       " 'nanquantile',\n",
       " 'nanstd',\n",
       " 'nansum',\n",
       " 'nanvar',\n",
       " 'nbytes',\n",
       " 'ndarray',\n",
       " 'ndenumerate',\n",
       " 'ndfromtxt',\n",
       " 'ndim',\n",
       " 'ndindex',\n",
       " 'nditer',\n",
       " 'negative',\n",
       " 'nested_iters',\n",
       " 'newaxis',\n",
       " 'nextafter',\n",
       " 'nonzero',\n",
       " 'not_equal',\n",
       " 'nper',\n",
       " 'npv',\n",
       " 'numarray',\n",
       " 'number',\n",
       " 'obj2sctype',\n",
       " 'object',\n",
       " 'object0',\n",
       " 'object_',\n",
       " 'ogrid',\n",
       " 'oldnumeric',\n",
       " 'ones',\n",
       " 'ones_like',\n",
       " 'outer',\n",
       " 'packbits',\n",
       " 'pad',\n",
       " 'partition',\n",
       " 'percentile',\n",
       " 'pi',\n",
       " 'piecewise',\n",
       " 'place',\n",
       " 'pmt',\n",
       " 'poly',\n",
       " 'poly1d',\n",
       " 'polyadd',\n",
       " 'polyder',\n",
       " 'polydiv',\n",
       " 'polyfit',\n",
       " 'polyint',\n",
       " 'polymul',\n",
       " 'polynomial',\n",
       " 'polysub',\n",
       " 'polyval',\n",
       " 'positive',\n",
       " 'power',\n",
       " 'ppmt',\n",
       " 'print_function',\n",
       " 'printoptions',\n",
       " 'prod',\n",
       " 'product',\n",
       " 'promote_types',\n",
       " 'ptp',\n",
       " 'put',\n",
       " 'put_along_axis',\n",
       " 'putmask',\n",
       " 'pv',\n",
       " 'quantile',\n",
       " 'r_',\n",
       " 'rad2deg',\n",
       " 'radians',\n",
       " 'random',\n",
       " 'rank',\n",
       " 'rate',\n",
       " 'ravel',\n",
       " 'ravel_multi_index',\n",
       " 'real',\n",
       " 'real_if_close',\n",
       " 'rec',\n",
       " 'recarray',\n",
       " 'recfromcsv',\n",
       " 'recfromtxt',\n",
       " 'reciprocal',\n",
       " 'record',\n",
       " 'remainder',\n",
       " 'repeat',\n",
       " 'require',\n",
       " 'reshape',\n",
       " 'resize',\n",
       " 'result_type',\n",
       " 'right_shift',\n",
       " 'rint',\n",
       " 'roll',\n",
       " 'rollaxis',\n",
       " 'roots',\n",
       " 'rot90',\n",
       " 'round',\n",
       " 'round_',\n",
       " 'row_stack',\n",
       " 's_',\n",
       " 'safe_eval',\n",
       " 'save',\n",
       " 'savetxt',\n",
       " 'savez',\n",
       " 'savez_compressed',\n",
       " 'sctype2char',\n",
       " 'sctypeDict',\n",
       " 'sctypeNA',\n",
       " 'sctypes',\n",
       " 'searchsorted',\n",
       " 'select',\n",
       " 'set_numeric_ops',\n",
       " 'set_printoptions',\n",
       " 'set_string_function',\n",
       " 'setbufsize',\n",
       " 'setdiff1d',\n",
       " 'seterr',\n",
       " 'seterrcall',\n",
       " 'seterrobj',\n",
       " 'setxor1d',\n",
       " 'shape',\n",
       " 'shares_memory',\n",
       " 'short',\n",
       " 'show_config',\n",
       " 'sign',\n",
       " 'signbit',\n",
       " 'signedinteger',\n",
       " 'sin',\n",
       " 'sinc',\n",
       " 'single',\n",
       " 'singlecomplex',\n",
       " 'sinh',\n",
       " 'size',\n",
       " 'sometrue',\n",
       " 'sort',\n",
       " 'sort_complex',\n",
       " 'source',\n",
       " 'spacing',\n",
       " 'split',\n",
       " 'sqrt',\n",
       " 'square',\n",
       " 'squeeze',\n",
       " 'stack',\n",
       " 'std',\n",
       " 'str',\n",
       " 'str0',\n",
       " 'str_',\n",
       " 'string_',\n",
       " 'subtract',\n",
       " 'sum',\n",
       " 'swapaxes',\n",
       " 'sys',\n",
       " 'take',\n",
       " 'take_along_axis',\n",
       " 'tan',\n",
       " 'tanh',\n",
       " 'tensordot',\n",
       " 'test',\n",
       " 'testing',\n",
       " 'tile',\n",
       " 'timedelta64',\n",
       " 'trace',\n",
       " 'tracemalloc_domain',\n",
       " 'transpose',\n",
       " 'trapz',\n",
       " 'tri',\n",
       " 'tril',\n",
       " 'tril_indices',\n",
       " 'tril_indices_from',\n",
       " 'trim_zeros',\n",
       " 'triu',\n",
       " 'triu_indices',\n",
       " 'triu_indices_from',\n",
       " 'true_divide',\n",
       " 'trunc',\n",
       " 'typeDict',\n",
       " 'typeNA',\n",
       " 'typecodes',\n",
       " 'typename',\n",
       " 'ubyte',\n",
       " 'ufunc',\n",
       " 'uint',\n",
       " 'uint0',\n",
       " 'uint16',\n",
       " 'uint32',\n",
       " 'uint64',\n",
       " 'uint8',\n",
       " 'uintc',\n",
       " 'uintp',\n",
       " 'ulonglong',\n",
       " 'unicode',\n",
       " 'unicode_',\n",
       " 'union1d',\n",
       " 'unique',\n",
       " 'unpackbits',\n",
       " 'unravel_index',\n",
       " 'unsignedinteger',\n",
       " 'unwrap',\n",
       " 'ushort',\n",
       " 'vander',\n",
       " 'var',\n",
       " 'vdot',\n",
       " 'vectorize',\n",
       " 'version',\n",
       " 'void',\n",
       " 'void0',\n",
       " 'vsplit',\n",
       " 'vstack',\n",
       " 'warnings',\n",
       " 'where',\n",
       " 'who',\n",
       " 'zeros',\n",
       " 'zeros_like']"
      ]
     },
     "execution_count": 86,
     "metadata": {},
     "output_type": "execute_result"
    }
   ],
   "source": [
    "dir(np)"
   ]
  },
  {
   "cell_type": "code",
   "execution_count": 167,
   "metadata": {},
   "outputs": [],
   "source": [
    "class Base:\n",
    "    def __init__(self):\n",
    "        self.value = 2\n",
    "        \n",
    "    def mult_value(self, a):\n",
    "        return self.value * a\n",
    "    \n",
    "\n",
    "class Child(Base):\n",
    "    def __init__(self, digit):\n",
    "        super().__init__()\n",
    "        self.digit = digit\n",
    "\n",
    "    \n",
    "    def mult_value(self, a):\n",
    "        res = super().mult_value(a)\n",
    "        return res + self.digit"
   ]
  },
  {
   "cell_type": "code",
   "execution_count": 168,
   "metadata": {},
   "outputs": [
    {
     "data": {
      "text/plain": [
       "24"
      ]
     },
     "execution_count": 168,
     "metadata": {},
     "output_type": "execute_result"
    }
   ],
   "source": [
    "child = Child(4)\n",
    "child.mult_value(10)"
   ]
  },
  {
   "cell_type": "code",
   "execution_count": 176,
   "metadata": {},
   "outputs": [],
   "source": [
    "def timeit(method):\n",
    "    def timed(*args, **kwargs):\n",
    "        start = time.time()\n",
    "        res = method(*args, **kwargs)\n",
    "        runtime = int((time.time() - start)*1000)\n",
    "        print(f\"Runtime: {runtime} ms\")\n",
    "        return res\n",
    "    return timed"
   ]
  },
  {
   "cell_type": "code",
   "execution_count": 177,
   "metadata": {},
   "outputs": [],
   "source": [
    "@timeit\n",
    "def calc_mean(a:Child, b:Child) -> float:\n",
    "    assert a.digit != 0 and b.digit != 0\n",
    "    return (a.digit + b.digit)/2"
   ]
  },
  {
   "cell_type": "code",
   "execution_count": 178,
   "metadata": {},
   "outputs": [
    {
     "name": "stdout",
     "output_type": "stream",
     "text": [
      "Runtime: 0 ms\n"
     ]
    },
    {
     "data": {
      "text/plain": [
       "3.0"
      ]
     },
     "execution_count": 178,
     "metadata": {},
     "output_type": "execute_result"
    }
   ],
   "source": [
    "calc_mean(Child(5), Child(1))"
   ]
  },
  {
   "cell_type": "code",
   "execution_count": 179,
   "metadata": {},
   "outputs": [],
   "source": [
    "class Fraction:\n",
    "    def __init__(self, whole_part, numerator, denominator):\n",
    "        self.numerator = numerator\n",
    "        self.denominator = denominator\n",
    "        self.whole_part = whole_part\n",
    "    \n",
    "    def to_improper_fraction(self):        \n",
    "        self.numerator += self.denominator * self.whole_part\n",
    "        self.whole_part = 0\n",
    "        \n",
    "    def __mul__(self, other):\n",
    "        self.to_improper_fraction()\n",
    "        other.to_improper_fraction()\n",
    "        numerator = self.numerator * other.numerator\n",
    "        denominator = self.denominator * other.denominator\n",
    "        return Fraction(0, numerator, denominator)\n",
    "\n",
    "    def __add__(self, other):\n",
    "        if self.denominator == other.denominator:\n",
    "            numerator = self.numerator + other.numerator\n",
    "            whole_part = self.whole_part + other.whole_part\n",
    "            return Fraction(whole_part, self.numerator, self.denominator)\n",
    "\n",
    "    def __str__(self):\n",
    "        if self.whole_part:\n",
    "            return f'{self.whole_part}/{self.numerator}/{self.denominator}'\n",
    "        else:\n",
    "            return f'{self.numerator}/{self.denominator}'\n"
   ]
  },
  {
   "cell_type": "code",
   "execution_count": 180,
   "metadata": {},
   "outputs": [
    {
     "name": "stdout",
     "output_type": "stream",
     "text": [
      "1/1/2\n",
      "2/3\n"
     ]
    }
   ],
   "source": [
    "a = Fraction(1, 1, 2)\n",
    "print(a)\n",
    "\n",
    "b = Fraction(0, 2, 3)\n",
    "print(b)"
   ]
  },
  {
   "cell_type": "code",
   "execution_count": 182,
   "metadata": {},
   "outputs": [
    {
     "name": "stdout",
     "output_type": "stream",
     "text": [
      "6/6\n"
     ]
    }
   ],
   "source": [
    "print(a * b)"
   ]
  },
  {
   "cell_type": "code",
   "execution_count": null,
   "metadata": {},
   "outputs": [],
   "source": []
  },
  {
   "cell_type": "code",
   "execution_count": null,
   "metadata": {},
   "outputs": [],
   "source": []
  },
  {
   "cell_type": "code",
   "execution_count": null,
   "metadata": {},
   "outputs": [],
   "source": []
  },
  {
   "cell_type": "code",
   "execution_count": null,
   "metadata": {},
   "outputs": [],
   "source": []
  }
 ],
 "metadata": {
  "kernelspec": {
   "display_name": "ml",
   "language": "python",
   "name": "ml"
  },
  "language_info": {
   "codemirror_mode": {
    "name": "ipython",
    "version": 3
   },
   "file_extension": ".py",
   "mimetype": "text/x-python",
   "name": "python",
   "nbconvert_exporter": "python",
   "pygments_lexer": "ipython3",
   "version": "3.6.8"
  }
 },
 "nbformat": 4,
 "nbformat_minor": 2
}
